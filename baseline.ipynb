{
 "cells": [
  {
   "cell_type": "code",
   "execution_count": 31,
   "metadata": {
    "collapsed": true,
    "pycharm": {
     "is_executing": false
    }
   },
   "outputs": [],
   "source": [
    "from conversion import convert_train, convert_val, convert_test\n",
    "import pandas as pd\n",
    "import re\n",
    "from sklearn.feature_extraction.text import TfidfVectorizer\n",
    "from sklearn.linear_model import LogisticRegression\n",
    "from sklearn.metrics import precision_score, recall_score"
   ]
  },
  {
   "cell_type": "markdown",
   "source": [
    "This part is used as a comparison to BERT pipeline"
   ],
   "metadata": {
    "collapsed": false
   }
  },
  {
   "cell_type": "code",
   "execution_count": 26,
   "outputs": [],
   "source": [
    "df_train = convert_train(pd.read_csv('data/ROC-Story-Cloze-Data.csv'))\n",
    "df_val_1, df_val_2 = convert_val(pd.read_csv('data/ROC-Story-Cloze-Val.csv'))\n",
    "# print(\"Successfully loaded csv files\")"
   ],
   "metadata": {
    "collapsed": false,
    "pycharm": {
     "name": "#%%\n",
     "is_executing": false
    }
   }
  },
  {
   "cell_type": "markdown",
   "source": [
    "Here is the head of df_train:\n",
    "\n",
    "InputStoryid - The original document id<br/>\n",
    "Story - Context (InputSentence 1 to 4)<br/>\n",
    "Quiz - InputSentence 5"
   ],
   "metadata": {
    "collapsed": false,
    "pycharm": {
     "name": "#%% md\n"
    }
   }
  },
  {
   "cell_type": "code",
   "execution_count": 27,
   "outputs": [
    {
     "name": "stdout",
     "text": [
      "                               InputStoryid  \\\n",
      "8931   ea473442-7584-48de-9eda-69004f1b7f00   \n",
      "47349  f949d814-f3ee-4c6a-906f-ba0219020632   \n",
      "622    7ec40dab-5c33-45e5-a351-8365fd61b4fe   \n",
      "8796   80b0e3db-6ede-4ba7-a7b9-3f847b4dc827   \n",
      "8919   48b1add7-4e5c-44aa-97d5-5418573454f7   \n",
      "\n",
      "                                                   Story  \\\n",
      "8931   Samantha was walking to her boyfriend's house....   \n",
      "47349  Tim and his wife were getting ready for Hallow...   \n",
      "622    A lady across the street was selling her dog.H...   \n",
      "8796   Henry ordered some pizza.The pizza arrived lat...   \n",
      "8919   Jim woke up one morning.He got ready to go to ...   \n",
      "\n",
      "                                                    Quiz  label  \n",
      "8931   She turned and ran, never telling anyone about...      1  \n",
      "47349  The kids in the neighborhood all agreed their ...      1  \n",
      "622                         They all died from the pain.      0  \n",
      "8796   Danny tried to clean the couch with several ch...      0  \n",
      "8919   Years later, George looked back with shame at ...      0  \n"
     ],
     "output_type": "stream"
    }
   ],
   "source": [
    "print(df_train.head())"
   ],
   "metadata": {
    "collapsed": false,
    "pycharm": {
     "name": "#%%\n",
     "is_executing": false
    }
   }
  },
  {
   "cell_type": "code",
   "execution_count": 28,
   "outputs": [],
   "source": [
    "# Preprocess training data\n",
    "train_corpus = []\n",
    "train_result = []\n",
    "# count = 0\n",
    "\n",
    "for idx, row in df_train.iterrows():\n",
    "    # if count == 5: break  # For testing purpose\n",
    "    \n",
    "    full_text = row['Story'] + row['Quiz']\n",
    "    text_list = [i for i in re.split(' |\\n|\\t|,|\\.|!|\\\\?|;|:|-|–|—|~|%|_|\\\\|/|/|<|>|\\^|\\(|\\)|\\[|\\]|\\\\|\\'|\\'|`|\"', full_text) if i]\n",
    "    text_processed = ' '.join(text_list).lower()\n",
    "    train_corpus.append(text_processed)\n",
    "    train_result.append(int(row['label']))\n",
    "    \n",
    "    # print(idx, text_processed)\n",
    "    # count += 1\n",
    "    "
   ],
   "metadata": {
    "collapsed": false,
    "pycharm": {
     "name": "#%%\n",
     "is_executing": false
    }
   }
  },
  {
   "cell_type": "code",
   "execution_count": 29,
   "outputs": [],
   "source": [
    "# Preprocessing CV data from df_val_1\n",
    "cv1_corpus = []\n",
    "\n",
    "for idx, row in df_val_1.iterrows():\n",
    "    full_text = row['Story'] + row['Quiz']\n",
    "    text_list = [i for i in re.split(' |\\n|\\t|,|\\.|!|\\\\?|;|:|-|–|—|~|%|_|\\\\|/|/|<|>|\\^|\\(|\\)|\\[|\\]|\\\\|\\'|\\'|`|\"', full_text) if i]\n",
    "    text_processed = ' '.join(text_list).lower()\n",
    "    cv1_corpus.append(text_processed)"
   ],
   "metadata": {
    "collapsed": false,
    "pycharm": {
     "name": "#%%\n",
     "is_executing": false
    }
   }
  },
  {
   "cell_type": "code",
   "execution_count": 30,
   "outputs": [],
   "source": [
    "# Preprocessing CV data from df_val_1\n",
    "cv2_corpus = []\n",
    "\n",
    "for idx, row in df_val_2.iterrows():\n",
    "    full_text = row['Story'] + row['Quiz']\n",
    "    text_list = [i for i in re.split(' |\\n|\\t|,|\\.|!|\\\\?|;|:|-|–|—|~|%|_|\\\\|/|/|<|>|\\^|\\(|\\)|\\[|\\]|\\\\|\\'|\\'|`|\"', full_text) if i]\n",
    "    text_processed = ' '.join(text_list).lower()\n",
    "    cv2_corpus.append(text_processed)\n",
    "\n",
    "# Check the size of two CV corpus\n",
    "assert len(cv1_corpus) == len(cv2_corpus)"
   ],
   "metadata": {
    "collapsed": false,
    "pycharm": {
     "name": "#%%\n",
     "is_executing": false
    }
   }
  },
  {
   "cell_type": "code",
   "execution_count": 34,
   "outputs": [
    {
     "name": "stderr",
     "text": [
      "/usr/local/lib/python3.6/dist-packages/sklearn/linear_model/_logistic.py:939: ConvergenceWarning: lbfgs failed to converge (status=1):\n",
      "STOP: TOTAL NO. of ITERATIONS REACHED LIMIT.\n",
      "\n",
      "Increase the number of iterations (max_iter) or scale the data as shown in:\n",
      "    https://scikit-learn.org/stable/modules/preprocessing.html.\n",
      "Please also refer to the documentation for alternative solver options:\n",
      "    https://scikit-learn.org/stable/modules/linear_model.html#logistic-regression\n",
      "  extra_warning_msg=_LOGISTIC_SOLVER_CONVERGENCE_MSG)\n"
     ],
     "output_type": "stream"
    }
   ],
   "source": [
    "vectorizer_tfidf = TfidfVectorizer()\n",
    "train_X = vectorizer_tfidf.fit_transform(train_corpus)\n",
    "train_Y = train_result\n",
    "cv1_X = vectorizer_tfidf.transform(cv1_corpus)\n",
    "cv2_X = vectorizer_tfidf.transform(cv2_corpus)\n",
    "\n",
    "model = LogisticRegression(\n",
    "            multi_class='multinomial',\n",
    "            random_state=0,\n",
    "            solver='lbfgs'\n",
    "        ).fit(train_X, train_Y)\n",
    "\n",
    "pred_cv1 = model.predict(cv1_X).tolist()\n",
    "prob_cv1 = model.predict_proba(cv1_X)\n",
    "pred_cv2 = model.predict(cv2_X).tolist()\n",
    "prob_cv2 = model.predict_proba(cv2_X)"
   ],
   "metadata": {
    "collapsed": false,
    "pycharm": {
     "name": "#%%\n",
     "is_executing": false
    }
   }
  },
  {
   "cell_type": "code",
   "execution_count": 38,
   "outputs": [],
   "source": [
    "# Retrieve the result\n",
    "cv_pred_Y = []\n",
    "for i in range(len(prob_cv1)):\n",
    "    prob_1 = prob_cv1[i].tolist()\n",
    "    prob_2 = prob_cv2[i].tolist()\n",
    "    \n",
    "    result_label = 1 if prob_1[1] > prob_2[1] else 2\n",
    "    cv_pred_Y.append(result_label)\n",
    "    "
   ],
   "metadata": {
    "collapsed": false,
    "pycharm": {
     "name": "#%%\n",
     "is_executing": false
    }
   }
  },
  {
   "cell_type": "code",
   "execution_count": 41,
   "outputs": [],
   "source": [
    "# Evaluation\n",
    "cv_Y = df_val_1['AnswerRightEnding']\n",
    "recall = recall_score(cv_Y, cv_pred_Y)\n",
    "precision = precision_score(cv_Y, cv_pred_Y)\n",
    "print()"
   ],
   "metadata": {
    "collapsed": false,
    "pycharm": {
     "name": "#%%\n",
     "is_executing": false
    }
   }
  }
 ],
 "metadata": {
  "kernelspec": {
   "name": "pycharm-6d4d22bd",
   "language": "python",
   "display_name": "PyCharm (roc_story_cloze)"
  },
  "language_info": {
   "codemirror_mode": {
    "name": "ipython",
    "version": 2
   },
   "file_extension": ".py",
   "mimetype": "text/x-python",
   "name": "python",
   "nbconvert_exporter": "python",
   "pygments_lexer": "ipython2",
   "version": "2.7.6"
  },
  "pycharm": {
   "stem_cell": {
    "cell_type": "raw",
    "source": [],
    "metadata": {
     "collapsed": false
    }
   }
  }
 },
 "nbformat": 4,
 "nbformat_minor": 0
}